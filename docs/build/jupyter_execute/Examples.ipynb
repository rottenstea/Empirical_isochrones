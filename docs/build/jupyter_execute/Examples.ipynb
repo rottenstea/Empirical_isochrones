{
 "cells": [
  {
   "cell_type": "markdown",
   "id": "cf27440a",
   "metadata": {},
   "source": [
    "# IsoModulator example\n",
    "\n",
    "## Preliminary setup\n",
    "\n",
    "### Modules"
   ]
  },
  {
   "cell_type": "code",
   "execution_count": 1,
   "id": "9598220f",
   "metadata": {},
   "outputs": [
    {
     "ename": "ModuleNotFoundError",
     "evalue": "No module named 'EmpiricalArchive'",
     "output_type": "error",
     "traceback": [
      "\u001b[0;31m---------------------------------------------------------------------------\u001b[0m",
      "\u001b[0;31mModuleNotFoundError\u001b[0m                       Traceback (most recent call last)",
      "\u001b[0;32m/var/folders/z6/y4rdkpdx3vlbwtmngx04x_1w0000gp/T/ipykernel_6182/1652750867.py\u001b[0m in \u001b[0;36m<module>\u001b[0;34m\u001b[0m\n\u001b[1;32m      3\u001b[0m \u001b[0msys\u001b[0m\u001b[0;34m.\u001b[0m\u001b[0mpath\u001b[0m\u001b[0;34m.\u001b[0m\u001b[0minsert\u001b[0m\u001b[0;34m(\u001b[0m\u001b[0;36m0\u001b[0m\u001b[0;34m,\u001b[0m \u001b[0mos\u001b[0m\u001b[0;34m.\u001b[0m\u001b[0mpath\u001b[0m\u001b[0;34m.\u001b[0m\u001b[0mabspath\u001b[0m\u001b[0;34m(\u001b[0m\u001b[0;34m'../../../PaperI/'\u001b[0m\u001b[0;34m)\u001b[0m\u001b[0;34m)\u001b[0m\u001b[0;34m\u001b[0m\u001b[0;34m\u001b[0m\u001b[0m\n\u001b[1;32m      4\u001b[0m \u001b[0;34m\u001b[0m\u001b[0m\n\u001b[0;32m----> 5\u001b[0;31m \u001b[0;32mfrom\u001b[0m \u001b[0mEmpiricalArchive\u001b[0m\u001b[0;34m.\u001b[0m\u001b[0mIsoModulator\u001b[0m\u001b[0;34m.\u001b[0m\u001b[0mSimulation_functions\u001b[0m \u001b[0;32mimport\u001b[0m \u001b[0;34m*\u001b[0m\u001b[0;34m\u001b[0m\u001b[0;34m\u001b[0m\u001b[0m\n\u001b[0m\u001b[1;32m      6\u001b[0m \u001b[0;32mfrom\u001b[0m \u001b[0mitertools\u001b[0m \u001b[0;32mimport\u001b[0m \u001b[0mproduct\u001b[0m\u001b[0;34m\u001b[0m\u001b[0;34m\u001b[0m\u001b[0m\n\u001b[1;32m      7\u001b[0m \u001b[0;32mimport\u001b[0m \u001b[0mseaborn\u001b[0m \u001b[0;32mas\u001b[0m \u001b[0msns\u001b[0m\u001b[0;34m\u001b[0m\u001b[0;34m\u001b[0m\u001b[0m\n",
      "\u001b[0;31mModuleNotFoundError\u001b[0m: No module named 'EmpiricalArchive'"
     ]
    }
   ],
   "source": [
    "import os\n",
    "import sys\n",
    "sys.path.insert(0, os.path.abspath('../../../PaperI/'))\n",
    "\n",
    "from EmpiricalArchive.IsoModulator.Simulation_functions import *\n",
    "from itertools import product\n",
    "import seaborn as sns\n",
    "\n",
    "from EmpiricalArchive.Extraction.pre_processing import cluster_df_list\n",
    "from EmpiricalArchive.Extraction.Classfile import star_cluster\n",
    "\n",
    "from EmpiricalArchive.My_tools import my_utility\n",
    "from EmpiricalArchive.My_tools.plotting_essentials import CMD_density_design\n",
    "\n",
    "from scipy.integrate import simps"
   ]
  },
  {
   "cell_type": "markdown",
   "id": "eab4ba2f",
   "metadata": {},
   "source": [
    "## set paths"
   ]
  },
  {
   "cell_type": "code",
   "execution_count": null,
   "id": "d88e4691",
   "metadata": {},
   "outputs": [],
   "source": [
    "output_path = my_utility.set_output_path(\n",
    "    main_path=\"/Users/alena/Library/CloudStorage/OneDrive-Personal/Work/PhD/Projects/Isochrone_Archive/Coding_logs/\")\n",
    "mastertable_path = \"/Users/alena/PycharmProjects/PaperI/EmpiricalArchive/data/Isochrones/Mastertable_Archive.csv\"\n",
    "results_path = \"/Users/alena/PycharmProjects/PaperI/EmpiricalArchive/data/Isochrones/Simulations/\"\n",
    "\n",
    "HP_file = \"/Users/alena/PycharmProjects/PaperI/EmpiricalArchive/data/Hyperparameters/Simulations_1.csv\"\n",
    "my_utility.setup_HP(HP_file)"
   ]
  },
  {
   "cell_type": "markdown",
   "id": "450416d5",
   "metadata": {},
   "source": [
    "### Plotting kwargs"
   ]
  },
  {
   "cell_type": "code",
   "execution_count": null,
   "id": "0a10a643",
   "metadata": {},
   "outputs": [],
   "source": [
    "kwargs = dict(grid=None, HP_file=HP_file)\n",
    "# sns.set_style(\"darkgrid\")\n",
    "plt.rcParams[\"mathtext.fontset\"] = \"stix\"\n",
    "plt.rcParams[\"font.family\"] = \"STIXGeneral\"\n",
    "plt.rcParams[\"font.size\"] = 18"
   ]
  },
  {
   "cell_type": "markdown",
   "id": "752ba44c",
   "metadata": {},
   "source": [
    "## 1. Define parameter uncertainty values"
   ]
  },
  {
   "cell_type": "code",
   "execution_count": null,
   "id": "4006333c",
   "metadata": {},
   "outputs": [],
   "source": [
    "uncertainties = [0.1, 0.3, 0.5, 0.4]\n",
    "\n",
    "# define clusters\n",
    "cluster = \"Melotte_22\"\n",
    "\n",
    "# load and filter isochrone table and cluster_data_table\n",
    "mastertable = pd.read_csv(mastertable_path)\n",
    "filtered_df = mastertable[mastertable[\"Cluster\"].isin([cluster])]\n",
    "Archive_df = pd.concat(cluster_df_list, axis=0)"
   ]
  },
  {
   "cell_type": "markdown",
   "id": "7524d3e6",
   "metadata": {},
   "source": [
    "## 2. Initialize class object"
   ]
  },
  {
   "cell_type": "code",
   "execution_count": null,
   "id": "a291690b",
   "metadata": {},
   "outputs": [],
   "source": [
    "CMD1 = simulated_CMD(cluster_name=cluster, isochrone_df=filtered_df, cluster_data_df=Archive_df)\n",
    "\n",
    "# set CMD type\n",
    "CMD1.set_CMD_type(1)"
   ]
  },
  {
   "cell_type": "markdown",
   "id": "f6bd1e55",
   "metadata": {},
   "source": [
    "## 3. Add uncertainties and plot the result"
   ]
  },
  {
   "cell_type": "code",
   "execution_count": null,
   "id": "a32194a2",
   "metadata": {},
   "outputs": [],
   "source": [
    "cmd_data = CMD1.simulate(uncertainties)\n",
    "fig, axes = CMD1.plot_verification(uncertainties)\n",
    "fig.show()"
   ]
  },
  {
   "cell_type": "markdown",
   "id": "6fb6b808",
   "metadata": {},
   "source": [
    "## 4. Calculate the new isochrone"
   ]
  },
  {
   "cell_type": "code",
   "execution_count": null,
   "id": "429450de",
   "metadata": {},
   "outputs": [],
   "source": [
    "OC = star_cluster(name=cluster, catalog=cmd_data, dataset_id=2)\n",
    "OC.create_CMD_quick_n_dirty(CMD_params=[\"Gmag\", \"BP-RP\"], no_errors=True)\n",
    "\n",
    "# Do some initial HP tuning if necessary\n",
    "try:\n",
    "    params = OC.SVR_read_from_file(HP_file)\n",
    "except IndexError:\n",
    "    print(f\"No Hyperparameters were found for {OC.name}.\")\n",
    "    curve, isochrone = OC.curve_extraction(svr_data=OC.PCA_XY, svr_weights=OC.weights,\n",
    "                                           svr_predict=OC.PCA_XY[:, 0], **kwargs)\n",
    "\n",
    "# Create the robust isochrone and uncertainty border from bootstrapped curves\n",
    "n_boot = 100\n",
    "result_df = OC.isochrone_and_intervals(n_boot=n_boot, kwargs=kwargs, output_loc=results_path)"
   ]
  },
  {
   "cell_type": "markdown",
   "id": "b77aef19",
   "metadata": {},
   "source": [
    "## 5. Plot the result"
   ]
  },
  {
   "cell_type": "code",
   "execution_count": null,
   "id": "1180226a",
   "metadata": {},
   "outputs": [],
   "source": [
    "fig = CMD_density_design(OC.CMD, cluster_obj=OC)\n",
    "\n",
    "# plt.plot(result_df[\"l_x\"], result_df[\"l_y\"], color=\"grey\", label=\"5. perc\")\n",
    "plt.plot(result_df[\"m_x\"], result_df[\"m_y\"], color=\"red\", label=\"new\")\n",
    "# plt.plot(result_df[\"u_x\"], result_df[\"u_y\"], color=\"grey\", label=\"95. perc\")\n",
    "plt.plot(CMD1.cax, CMD1.abs_G, color=\"orange\", label=\"old\")\n",
    "\n",
    "plt.show()"
   ]
  },
  {
   "cell_type": "markdown",
   "id": "f7dbc506",
   "metadata": {},
   "source": [
    "## 6. Calculate the difference between the curves"
   ]
  },
  {
   "cell_type": "code",
   "execution_count": null,
   "id": "7cf1190f",
   "metadata": {},
   "outputs": [],
   "source": [
    "# Interpolate the second curve onto the x values of the first curve\n",
    "y2_interp = np.interp(result_df[\"m_x\"], CMD1.cax, CMD1.abs_G)\n",
    "\n",
    "# Calculate the absolute difference between the two curves\n",
    "# difference = np.abs(result_df[\"m_y\"] - y2_interp)\n",
    "euclidean_distances = np.sqrt((result_df[\"m_y\"] - y2_interp) ** 2)\n",
    "\n",
    "# Calculate the area between the curves using the trapezoidal rule\n",
    "area_between_curves = simps(euclidean_distances, result_df[\"m_x\"])\n",
    "\n",
    "print(\"Area between curves:\", area_between_curves)"
   ]
  }
 ],
 "metadata": {
  "jupytext": {
   "text_representation": {
    "extension": ".md",
    "format_name": "myst",
    "format_version": "0.13",
    "jupytext_version": "1.13.8"
   }
  },
  "kernelspec": {
   "display_name": "python3",
   "name": "python3"
  },
  "language_info": {
   "codemirror_mode": {
    "name": "ipython",
    "version": 3
   },
   "file_extension": ".py",
   "mimetype": "text/x-python",
   "name": "python",
   "nbconvert_exporter": "python",
   "pygments_lexer": "ipython3",
   "version": "3.8.13"
  },
  "source_map": [
   11,
   17,
   33,
   36,
   44,
   47,
   53,
   55,
   65,
   68,
   73,
   76,
   81,
   84,
   99,
   102,
   111,
   114
  ]
 },
 "nbformat": 4,
 "nbformat_minor": 5
}